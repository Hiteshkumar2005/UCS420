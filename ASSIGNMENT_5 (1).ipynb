{
 "cells": [
  {
   "cell_type": "code",
   "execution_count": 1,
   "id": "768046fb-cc63-4e78-a285-465e9acfc93c",
   "metadata": {},
   "outputs": [
    {
     "name": "stdout",
     "output_type": "stream",
     "text": [
      "Sum of all elements: 45\n",
      "Sum of all elements row-wise:\n",
      " [[14]\n",
      " [16]\n",
      " [15]]\n",
      "Sum of all elements column-wise:\n",
      " [[20  9 16]]\n"
     ]
    }
   ],
   "source": [
    "import numpy as np\n",
    "\n",
    "gfg = np.matrix('[4, 1, 9; 12, 3, 1; 4, 5, 6]')\n",
    "\n",
    "# i. Sum of all elements\n",
    "total_sum = np.sum(gfg)\n",
    "\n",
    "# ii. Sum of all elements row-wise\n",
    "row_sum = np.sum(gfg, axis=1)\n",
    "\n",
    "# iii. Sum of all elements column-wise\n",
    "col_sum = np.sum(gfg, axis=0)\n",
    "\n",
    "print(\"Sum of all elements:\", total_sum)\n",
    "print(\"Sum of all elements row-wise:\\n\", row_sum)\n",
    "print(\"Sum of all elements column-wise:\\n\", col_sum)"
   ]
  },
  {
   "cell_type": "code",
   "execution_count": 3,
   "id": "014c94ec-b7ee-4307-b62f-f97070f6c10f",
   "metadata": {},
   "outputs": [
    {
     "name": "stdout",
     "output_type": "stream",
     "text": [
      "Sorted array: [ 10  16  16  52  54  62 453]\n",
      "Indices of sorted array: [0 3 4 1 5 2 6]\n",
      "4 Smallest elements: [10 16 16 52]\n",
      "5 Largest elements: [ 16  52  54  62 453]\n"
     ]
    }
   ],
   "source": [
    "import numpy as np\n",
    "\n",
    "array = np.array([10, 52, 62, 16, 16, 54, 453])\n",
    "\n",
    "# i. Sorted array\n",
    "sorted_array = np.sort(array)\n",
    "\n",
    "# ii. Indices of sorted array\n",
    "sorted_indices = np.argsort(array)\n",
    "\n",
    "# iii. 4 smallest elements\n",
    "smallest_4 = np.sort(array)[:4]\n",
    "\n",
    "# iv. 5 largest elements\n",
    "largest_5 = np.sort(array)[-5:]\n",
    "\n",
    "print(\"Sorted array:\", sorted_array)\n",
    "print(\"Indices of sorted array:\", sorted_indices)\n",
    "print(\"4 Smallest elements:\", smallest_4)\n",
    "print(\"5 Largest elements:\", largest_5)"
   ]
  },
  {
   "cell_type": "code",
   "execution_count": 5,
   "id": "8027f10d-0508-47fc-9e1c-10a57fb030c7",
   "metadata": {},
   "outputs": [
    {
     "name": "stdout",
     "output_type": "stream",
     "text": [
      "Integer elements only: [1. 2. 3. 2.]\n",
      "Float elements only: [1.2 2.2]\n"
     ]
    }
   ],
   "source": [
    "array = np.array([1.0, 1.2, 2.2, 2.0, 3.0, 2.0])\n",
    "\n",
    "# i. Integer elements only\n",
    "integer_elements = array[array == array.astype(int)]\n",
    "\n",
    "# ii. Float elements only\n",
    "float_elements = array[array != array.astype(int)]\n",
    "\n",
    "print(\"Integer elements only:\", integer_elements)\n",
    "print(\"Float elements only:\", float_elements)"
   ]
  },
  {
   "cell_type": "code",
   "execution_count": 7,
   "id": "1897f370-d8f4-475e-b3e9-4433802b612f",
   "metadata": {},
   "outputs": [
    {
     "name": "stdout",
     "output_type": "stream",
     "text": [
      "Sales data: [157 207 257 307 357]\n"
     ]
    }
   ],
   "source": [
    "import numpy as np\n",
    "\n",
    "# a) Generate sales dataset\n",
    "X = ord('V') + ord('G')\n",
    "sales = np.array([X, X+50, X+100, X+150, X+200])\n",
    "\n",
    "print(\"Sales data:\", sales)"
   ]
  },
  {
   "cell_type": "code",
   "execution_count": 9,
   "id": "9e8e686c-3f83-4966-90f4-5c7677f86882",
   "metadata": {},
   "outputs": [
    {
     "name": "stdout",
     "output_type": "stream",
     "text": [
      "Personalized tax rate: 0.07\n",
      "Tax applied on sales: [10.99 14.49 17.99 21.49 24.99]\n"
     ]
    }
   ],
   "source": [
    "# b) Compute personalized tax rate and apply it\n",
    "tax_rate = ((X % 5) + 5) / 100\n",
    "taxed_sales = sales * tax_rate\n",
    "\n",
    "print(\"Personalized tax rate:\", tax_rate)\n",
    "print(\"Tax applied on sales:\", taxed_sales)"
   ]
  },
  {
   "cell_type": "code",
   "execution_count": 11,
   "id": "7ffecf47-10ca-498c-9b56-a34c7a72a472",
   "metadata": {},
   "outputs": [
    {
     "name": "stdout",
     "output_type": "stream",
     "text": [
      "Discounted sales: [149.15 196.65 231.3  276.3  321.3 ]\n"
     ]
    }
   ],
   "source": [
    "# c) Adjust sales based on discount\n",
    "discounted_sales = np.where(sales < X+100, sales * 0.95, sales * 0.90)\n",
    "\n",
    "print(\"Discounted sales:\", discounted_sales)"
   ]
  },
  {
   "cell_type": "code",
   "execution_count": 13,
   "id": "bd60c75b-2312-42b8-bc30-bb0628aa8488",
   "metadata": {},
   "outputs": [
    {
     "name": "stdout",
     "output_type": "stream",
     "text": [
      "Weekly sales data:\n",
      " [[157.   207.   257.   307.   357.  ]\n",
      " [160.14 211.14 262.14 313.14 364.14]\n",
      " [163.28 215.28 267.28 319.28 371.28]]\n"
     ]
    }
   ],
   "source": [
    "# d) Expand sales data for multiple weeks\n",
    "weeks = 3\n",
    "weekly_sales = np.tile(sales, (weeks, 1))\n",
    "\n",
    "week_multipliers = np.array([1.00, 1.02, 1.04]).reshape(3, 1)\n",
    "adjusted_weekly_sales = weekly_sales * week_multipliers\n",
    "\n",
    "print(\"Weekly sales data:\\n\", adjusted_weekly_sales)"
   ]
  },
  {
   "cell_type": "code",
   "execution_count": 15,
   "id": "758110b7-eeac-4f10-a87c-9367bfd766cf",
   "metadata": {},
   "outputs": [
    {
     "ename": "SyntaxError",
     "evalue": "unterminated string literal (detected at line 8) (682353949.py, line 8)",
     "output_type": "error",
     "traceback": [
      "\u001b[1;36m  Cell \u001b[1;32mIn[15], line 8\u001b[1;36m\u001b[0m\n\u001b[1;33m    plt.plot(x, y1, label=r\"\u001b[0m\n\u001b[1;37m                          ^\u001b[0m\n\u001b[1;31mSyntaxError\u001b[0m\u001b[1;31m:\u001b[0m unterminated string literal (detected at line 8)\n"
     ]
    }
   ],
   "source": [
    "import numpy as np\n",
    "import matplotlib.pyplot as plt\n",
    "\n",
    "x = np.linspace(-10, 10, 100)\n",
    "y1, y2, y3, y4 = x**2, np.sin(x), np.exp(x), np.log(np.abs(x) + 1)\n",
    "\n",
    "plt.figure(figsize=(10, 6))\n",
    "plt.plot(x, y1, label=r\"\n",
    "\", color=\"blue\")\n",
    "plt.plot(x, y2, label=r\"\n",
    "\", color=\"red\")\n",
    "plt.plot(x, y3, label=r\"\n",
    "\", color=\"green\")\n",
    "plt.plot(x, y4, label=r\"\n",
    "\", color=\"purple\")\n",
    "\n",
    "plt.title(\"Mathematical Functions Visualization\", fontsize=14)\n",
    "plt.xlabel(\"x values\", fontsize=12)\n",
    "plt.ylabel(\"y values\", fontsize=12)\n",
    "plt.axhline(0, color='black', linewidth=0.5)\n",
    "plt.axvline(0, color='black', linewidth=0.5)\n",
    "plt.grid(True, linestyle='--', alpha=0.6)\n",
    "plt.legend()\n",
    "plt.show()"
   ]
  }
 ],
 "metadata": {
  "kernelspec": {
   "display_name": "Python 3 (ipykernel)",
   "language": "python",
   "name": "python3"
  },
  "language_info": {
   "codemirror_mode": {
    "name": "ipython",
    "version": 3
   },
   "file_extension": ".py",
   "mimetype": "text/x-python",
   "name": "python",
   "nbconvert_exporter": "python",
   "pygments_lexer": "ipython3",
   "version": "3.12.4"
  }
 },
 "nbformat": 4,
 "nbformat_minor": 5
}
