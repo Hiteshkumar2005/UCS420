{
 "cells": [
  {
   "cell_type": "code",
   "execution_count": 4,
   "id": "c9fd6102-6470-47e7-877c-66e93eed002c",
   "metadata": {},
   "outputs": [
    {
     "name": "stdout",
     "output_type": "stream",
     "text": [
      "7 * 1 = 7\n",
      "7 * 2 = 14\n",
      "7 * 3 = 21\n",
      "7 * 4 = 28\n",
      "7 * 5 = 35\n",
      "7 * 6 = 42\n",
      "7 * 7 = 49\n",
      "7 * 8 = 56\n",
      "7 * 9 = 63\n",
      "7 * 10 = 70\n"
     ]
    }
   ],
   "source": [
    "for i in range (1,11):\n",
    "    print(7 , \"*\" , i , \"=\" ,  7*i) "
   ]
  },
  {
   "cell_type": "code",
   "execution_count": 6,
   "id": "3767c969-2282-40c2-9433-2d61300cab8a",
   "metadata": {},
   "outputs": [
    {
     "name": "stdout",
     "output_type": "stream",
     "text": [
      "9 * 1 = 9\n",
      "9 * 2 = 18\n",
      "9 * 3 = 27\n",
      "9 * 4 = 36\n",
      "9 * 5 = 45\n",
      "9 * 6 = 54\n",
      "9 * 7 = 63\n",
      "9 * 8 = 72\n",
      "9 * 9 = 81\n",
      "9 * 10 = 90\n"
     ]
    }
   ],
   "source": [
    "for i in range (1,11):\n",
    "    print(9 , \"*\" , i , \"=\" ,  9*i) "
   ]
  },
  {
   "cell_type": "code",
   "execution_count": 12,
   "id": "e92c805a-6dc1-43e1-a557-1e7131b703ba",
   "metadata": {},
   "outputs": [
    {
     "name": "stdin",
     "output_type": "stream",
     "text": [
      "Enter the number to print the table of that number 2\n"
     ]
    },
    {
     "name": "stdout",
     "output_type": "stream",
     "text": [
      "2 * 1 = 2\n",
      "2 * 2 = 4\n",
      "2 * 3 = 6\n",
      "2 * 4 = 8\n",
      "2 * 5 = 10\n",
      "2 * 6 = 12\n",
      "2 * 7 = 14\n",
      "2 * 8 = 16\n",
      "2 * 9 = 18\n",
      "2 * 10 = 20\n"
     ]
    }
   ],
   "source": [
    "n= int(input(\"Enter the number to print the table of that number\"))\n",
    "for i in range (1,11):\n",
    "    print(n , \"*\" , i , \"=\" ,  n*i)      "
   ]
  },
  {
   "cell_type": "code",
   "execution_count": 18,
   "id": "945402b1-49e4-442b-9354-7c4b94fa861f",
   "metadata": {},
   "outputs": [
    {
     "name": "stdin",
     "output_type": "stream",
     "text": [
      "Enter the number to add all the numbers from 1 to given number by you 5\n"
     ]
    },
    {
     "name": "stdout",
     "output_type": "stream",
     "text": [
      "Sum is:  10\n"
     ]
    }
   ],
   "source": [
    "n= int(input(\"Enter the number to add all the numbers from 1 to given number by you\"))\n",
    "s=0\n",
    "for i in range(1,n):\n",
    "\ts=s+i\n",
    "print (\"Sum is: \",s)"
   ]
  },
  {
   "cell_type": "code",
   "execution_count": null,
   "id": "d892cb0f-61c3-441a-8e0e-3f8153786d76",
   "metadata": {},
   "outputs": [],
   "source": []
  }
 ],
 "metadata": {
  "kernelspec": {
   "display_name": "Python 3 (ipykernel)",
   "language": "python",
   "name": "python3"
  },
  "language_info": {
   "codemirror_mode": {
    "name": "ipython",
    "version": 3
   },
   "file_extension": ".py",
   "mimetype": "text/x-python",
   "name": "python",
   "nbconvert_exporter": "python",
   "pygments_lexer": "ipython3",
   "version": "3.11.7"
  }
 },
 "nbformat": 4,
 "nbformat_minor": 5
}
