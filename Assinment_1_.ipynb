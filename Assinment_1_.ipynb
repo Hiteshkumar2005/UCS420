{
 "cells": [
  {
   "cell_type": "code",
   "execution_count": 5,
   "id": "a25aef73-fedc-4357-bf5a-e33b273a40eb",
   "metadata": {},
   "outputs": [
    {
     "name": "stdout",
     "output_type": "stream",
     "text": [
      "HITESH KUMAR\n",
      "HITESH KUMAR\n",
      "HITESH KUMAR\n"
     ]
    }
   ],
   "source": [
    "for i in range(0,3):\n",
    "    print('HITESH KUMAR')"
   ]
  },
  {
   "cell_type": "code",
   "execution_count": null,
   "id": "9e9260db-8286-4f18-ad21-6ca0de29de4a",
   "metadata": {},
   "outputs": [],
   "source": []
  }
 ],
 "metadata": {
  "kernelspec": {
   "display_name": "Python 3 (ipykernel)",
   "language": "python",
   "name": "python3"
  },
  "language_info": {
   "codemirror_mode": {
    "name": "ipython",
    "version": 3
   },
   "file_extension": ".py",
   "mimetype": "text/x-python",
   "name": "python",
   "nbconvert_exporter": "python",
   "pygments_lexer": "ipython3",
   "version": "3.11.7"
  }
 },
 "nbformat": 4,
 "nbformat_minor": 5
}
