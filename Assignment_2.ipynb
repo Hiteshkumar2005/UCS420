{
 "cells": [
  {
   "cell_type": "code",
   "execution_count": 17,
   "id": "d11b068d-3c86-43d1-8c5c-15da577b118d",
   "metadata": {},
   "outputs": [
    {
     "name": "stdout",
     "output_type": "stream",
     "text": [
      " add 200 and 300 to L:  [10, 20, 30, 40, 50, 60, 70, 80, 200, 300]\n",
      " remove 10 and 30 from L: [20, 40, 50, 60, 70, 80, 200, 300]\n",
      " sort L in ascending order [20, 40, 50, 60, 70, 80, 200, 300]\n",
      "sort L in descending order:  [300, 200, 80, 70, 60, 50, 40, 20]\n"
     ]
    }
   ],
   "source": [
    "# QUESTION 1\n",
    "L = [10, 20, 30, 40, 50, 60, 70, 80]\n",
    "L.append(200)\n",
    "L.append(300)\n",
    "print(\" add 200 and 300 to L: \",L)\n",
    "L.remove(10)\n",
    "L.remove(30)\n",
    "print(\" remove 10 and 30 from L:\",L)\n",
    "L.sort()\n",
    "print(\" sort L in ascending order\",L)\n",
    "L.sort(reverse=True)\n",
    "print(\"sort L in descending order: \",L)\n"
   ]
  },
  {
   "cell_type": "code",
   "execution_count": 17,
   "id": "0049d8b6-861c-42a8-9b41-9576ac588de8",
   "metadata": {},
   "outputs": [
    {
     "name": "stdout",
     "output_type": "stream",
     "text": [
      "Highest score:  92 Index:  5\n",
      "Lowest score:  45 Count:  2\n",
      "Reversed tuple as list: [45, 58, 92, 89, 45.4, 76, 89.5, 45]\n"
     ]
    },
    {
     "name": "stdin",
     "output_type": "stream",
     "text": [
      "Enter a score to check (e.g., 76):  45\n"
     ]
    },
    {
     "name": "stdout",
     "output_type": "stream",
     "text": [
      "Score  45.0 is present at index  0\n"
     ]
    }
   ],
   "source": [
    "# QUESTION 2\n",
    "# Tuple of marks\n",
    "scores = (45, 89.5, 76, 45.4, 89, 92, 58, 45)\n",
    "\n",
    "# i.\n",
    "highest_score = max(scores)\n",
    "highest_score_index = scores.index(highest_score)\n",
    "print(\"Highest score: \",highest_score, \"Index: \",highest_score_index)\n",
    "\n",
    "# ii. \n",
    "lowest_score = min(scores)\n",
    "lowest_score_count = scores.count(lowest_score)\n",
    "print(\"Lowest score: \",lowest_score, \"Count: \", lowest_score_count)\n",
    "\n",
    "# iii. \n",
    "reversed_tuple_as_list = list(reversed(scores))\n",
    "print(\"Reversed tuple as list:\" ,reversed_tuple_as_list)\n",
    "\n",
    "# iv.\n",
    "specific_score = float(input(\"Enter a score to check (e.g., 76): \"))  # Input score from the user\n",
    "if specific_score in scores:\n",
    "    specific_score_index = scores.index(specific_score)\n",
    "    print(\"Score \",specific_score,\"is present at index \",specific_score_index)\n",
    "else:\n",
    "    print(\"Score \",specific_score, \"is not present in the tuple.\")\n"
   ]
  },
  {
   "cell_type": "code",
   "execution_count": 19,
   "id": "737e3a07-1006-4b89-8b31-94c6cdb86d49",
   "metadata": {},
   "outputs": [
    {
     "name": "stdout",
     "output_type": "stream",
     "text": [
      "Odd numbers: [9, 9, 5, 5]\n",
      "Even numbers: [6, 8, 0, 8, 4]\n",
      "Prime numbers: [5, 5]\n"
     ]
    }
   ],
   "source": [
    "# QUESTION 3\n",
    "import random\n",
    "numbers = [random.randint(0, 9) for _ in range(9)]\n",
    "def append_odd_numbers(numbers, odd_numbers):\n",
    "    for num in numbers:\n",
    "        if num % 2 != 0:\n",
    "            odd_numbers.append(num)\n",
    "\n",
    "def append_even_numbers(numbers, even_numbers):\n",
    "    for num in numbers:\n",
    "        if num % 2 == 0:\n",
    "            even_numbers.append(num)\n",
    "\n",
    "def append_prime_numbers(numbers, prime_numbers):\n",
    "    for num in numbers:\n",
    "        if num < 2:\n",
    "            continue\n",
    "        is_prime = True\n",
    "        for i in range(2, int(num ** 0.5) + 1):\n",
    "            if num % i == 0:\n",
    "                is_prime = False\n",
    "                break\n",
    "        if is_prime:\n",
    "            prime_numbers.append(num)\n",
    "\n",
    "odd_numbers = []\n",
    "even_numbers = []\n",
    "prime_numbers = []\n",
    "\n",
    "\n",
    "append_odd_numbers(numbers, odd_numbers)\n",
    "append_even_numbers(numbers, even_numbers)\n",
    "append_prime_numbers(numbers, prime_numbers)\n",
    "\n",
    "print(\"Odd numbers:\", odd_numbers)\n",
    "print(\"Even numbers:\", even_numbers)\n",
    "print(\"Prime numbers:\", prime_numbers)\n"
   ]
  },
  {
   "cell_type": "code",
   "execution_count": 29,
   "id": "f6f42030-c8bb-495e-827d-bad8bc0cdf9a",
   "metadata": {},
   "outputs": [
    {
     "name": "stdout",
     "output_type": "stream",
     "text": [
      "Unique scores achieved by both teams (Union):  {34, 45, 78, 23, 56, 90}\n",
      "Common scores (Intersection):  {90, 78}\n",
      "Scores exclusive to each team (Symmetric Difference):  {34, 45, 23, 56}\n",
      "Is team A's scores a subset of team B?  False\n",
      "Is team B's scores a superset of team A?  False\n"
     ]
    },
    {
     "name": "stdin",
     "output_type": "stream",
     "text": [
      "Enter a score to remove from team A:  56\n"
     ]
    },
    {
     "name": "stdout",
     "output_type": "stream",
     "text": [
      "Score  56  has been removed from team A.\n"
     ]
    }
   ],
   "source": [
    "# QUESTION 4\n",
    "# Define the sets A and B\n",
    "A = {34, 56, 78, 90}\n",
    "B = {78, 45, 90, 23}\n",
    "\n",
    "# i. \n",
    "union_scores = A.union(B)\n",
    "print(\"Unique scores achieved by both teams (Union): \",union_scores)\n",
    "\n",
    "# ii. \n",
    "common_scores = A.intersection(B)\n",
    "print(\"Common scores (Intersection): \",common_scores)\n",
    "\n",
    "# iii. \n",
    "exclusive_scores = A.symmetric_difference(B)\n",
    "print(\"Scores exclusive to each team (Symmetric Difference): \",exclusive_scores)\n",
    "\n",
    "# iv.\n",
    "is_A_subset_of_B = A.issubset(B)\n",
    "is_B_superset_of_A = B.issuperset(A)\n",
    "print(\"Is team A's scores a subset of team B? \",is_A_subset_of_B)\n",
    "print(\"Is team B's scores a superset of team A? \",is_B_superset_of_A)\n",
    "\n",
    "# v. \n",
    "score_to_remove = int(input(\"Enter a score to remove from team A: \"))\n",
    "if score_to_remove in A:\n",
    "    A.remove(score_to_remove)\n",
    "    print(\"Score \",score_to_remove,\" has been removed from team A.\")\n",
    "else:\n",
    "    print(\"Score \",score_to_remove,\"is not present in team A.\")\n"
   ]
  },
  {
   "cell_type": "code",
   "execution_count": 35,
   "id": "cf95331b-56d7-44b1-a9fc-b8e95a14529a",
   "metadata": {},
   "outputs": [
    {
     "name": "stdout",
     "output_type": "stream",
     "text": [
      "{'name': 'Kelly', 'age': 25, 'salary': 8000, 'location': 'New york'}\n"
     ]
    }
   ],
   "source": [
    "# QUESTION 5\n",
    "sample_dict = {\n",
    "    \"name\": \"Kelly\",\n",
    "    \"age\": 25,\n",
    "    \"salary\": 8000,\n",
    "    \"city\": \"New york\"\n",
    "}\n",
    "\n",
    "# Renaming key 'city' to 'location'\n",
    "sample_dict['location'] = sample_dict.pop('city')\n",
    "\n",
    "print(sample_dict)\n"
   ]
  }
 ],
 "metadata": {
  "kernelspec": {
   "display_name": "Python 3 (ipykernel)",
   "language": "python",
   "name": "python3"
  },
  "language_info": {
   "codemirror_mode": {
    "name": "ipython",
    "version": 3
   },
   "file_extension": ".py",
   "mimetype": "text/x-python",
   "name": "python",
   "nbconvert_exporter": "python",
   "pygments_lexer": "ipython3",
   "version": "3.12.4"
  }
 },
 "nbformat": 4,
 "nbformat_minor": 5
}
