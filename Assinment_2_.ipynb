{
 "cells": [
  {
   "cell_type": "code",
   "execution_count": 11,
   "id": "5123e86e-75d1-44a0-ae94-e4cba0bdbbb3",
   "metadata": {},
   "outputs": [
    {
     "name": "stdout",
     "output_type": "stream",
     "text": [
      "370\n"
     ]
    }
   ],
   "source": [
    "a = 10\n",
    "b = 240\n",
    "c=120\n",
    "d=a+b+c\n",
    "print(d)"
   ]
  },
  {
   "cell_type": "code",
   "execution_count": 13,
   "id": "56d90058-2b74-4c0a-a5ad-f0920eca888f",
   "metadata": {},
   "outputs": [
    {
     "name": "stdout",
     "output_type": "stream",
     "text": [
      "Hiteshkumar22\n"
     ]
    }
   ],
   "source": [
    "a = \"Hitesh\"\n",
    "b = \"kumar\"\n",
    "c= 22\n",
    "d= a+b+ str(c)\n",
    "print(d)"
   ]
  }
 ],
 "metadata": {
  "kernelspec": {
   "display_name": "Python 3 (ipykernel)",
   "language": "python",
   "name": "python3"
  },
  "language_info": {
   "codemirror_mode": {
    "name": "ipython",
    "version": 3
   },
   "file_extension": ".py",
   "mimetype": "text/x-python",
   "name": "python",
   "nbconvert_exporter": "python",
   "pygments_lexer": "ipython3",
   "version": "3.11.7"
  }
 },
 "nbformat": 4,
 "nbformat_minor": 5
}
