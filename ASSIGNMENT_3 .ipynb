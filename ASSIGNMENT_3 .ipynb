{
 "cells": [
  {
   "cell_type": "markdown",
   "id": "a0205122-d27d-4c0c-bd63-a4df3bd3c56b",
   "metadata": {},
   "source": [
    "**NAME:-HITESH KUMAR** \n"
   ]
  },
  {
   "cell_type": "markdown",
   "id": "5a916435-8f47-47fd-bfe3-30482b5f667c",
   "metadata": {},
   "source": [
    "**ROLL NO:-102497005**"
   ]
  },
  {
   "cell_type": "code",
   "execution_count": 45,
   "id": "cc365504-cbad-4ded-a87a-6fa6424cf6cc",
   "metadata": {},
   "outputs": [
    {
     "name": "stdout",
     "output_type": "stream",
     "text": [
      "   Tid       Refund       Marital Status       Taxable Income       Cheat\n",
      "0    1          Yes               Single                 125K          No\n",
      "1    2           No              Married                 100K          No\n",
      "2    3           No               Single                  70K          No\n",
      "3    4          Yes              Married                 120K          No\n",
      "4    5           No             Divorced                  95K         Yes\n",
      "5    6           No              Married                  60K         Yes\n",
      "6    7          Yes             Divorced                 220K          No\n",
      "7    8           No               Single                  85K          No\n",
      "8    9           No              Married                  75K         Yes\n",
      "9   10           No               Single                  90K          No\n"
     ]
    }
   ],
   "source": [
    "#         QUESTION 1\n",
    "import pandas as pd\n",
    "data = {\n",
    "    'Tid': [1, 2, 3, 4, 5, 6, 7, 8, 9, 10],'      '\n",
    "    'Refund': ['Yes', 'No', 'No', 'Yes', 'No', 'No', 'Yes', 'No', 'No', 'No'],'      '\n",
    "    'Marital Status': ['Single', 'Married', 'Single', 'Married', 'Divorced', 'Married', 'Divorced', 'Single', 'Married', 'Single'],'      '\n",
    "    'Taxable Income': ['125K', '100K', '70K', '120K', '95K', '60K', '220K', '85K', '75K', '90K'],'      '\n",
    "    'Cheat': ['No', 'No', 'No', 'No', 'Yes', 'Yes', 'No', 'No', 'Yes', 'No']\n",
    "}\n",
    "df=pd.DataFrame(data)\n",
    "print(df)\n",
    "\n",
    "\n",
    "#    OR \n",
    "\n",
    "# import pandas as pd\n",
    "# df=pd.read_csv(\"table.csv\")\n",
    "# print(df)"
   ]
  },
  {
   "cell_type": "code",
   "execution_count": 47,
   "id": "b924f73b-5ada-4ce3-80dd-c84d71a1a18d",
   "metadata": {},
   "outputs": [
    {
     "name": "stdout",
     "output_type": "stream",
     "text": [
      "   Tid       Refund       Marital Status       Taxable Income       Cheat\n",
      "0    1          Yes               Single                 125K          No\n",
      "4    5           No             Divorced                  95K         Yes\n",
      "7    8           No               Single                  85K          No\n",
      "8    9           No              Married                  75K         Yes\n"
     ]
    }
   ],
   "source": [
    "#         QUESTION 2\n",
    "# rows=df.[[0,4,7,8]]\n",
    "# print(rows)\n",
    "\n",
    "df=pd.DataFrame(df)\n",
    "# result=df.loc[[0,4,7,8],['Tid', 'Refund']] # print only specific column \n",
    "# result=df.loc[[0,4,7,8]] # print all columns \n",
    "# result=df.iloc[[0,4,7,8],0:5]  # First we pass list and the column form 1 to __\n",
    "result=df.iloc[[0,4,7,8]]\n",
    "print(result)"
   ]
  },
  {
   "cell_type": "code",
   "execution_count": 167,
   "id": "68c874df-4d22-47c8-af81-21de62347921",
   "metadata": {},
   "outputs": [
    {
     "name": "stdout",
     "output_type": "stream",
     "text": [
      "  Refund Marital Status Taxable Income\n",
      "0    Yes         Single           125K\n",
      "1     No        Married           100K\n",
      "2     No         Single            70K\n",
      "3    Yes        Married           120K\n",
      "4     No       Divorced            95K\n",
      "5     No        Married            60K\n",
      "6    Yes       Divorced           220K\n",
      "7     No         Single            85K\n",
      "8     No        Married            75K\n",
      "9     No         Single            90K\n"
     ]
    }
   ],
   "source": [
    "#         QUESTION 3\n",
    "\n",
    "# # Task 1: Select rows from index 3 to 7\n",
    "# Task_1=df.loc[3:7]\n",
    "# print(Task_1)\n",
    "\n",
    "\n",
    "# # Task 2: Select rows from index 4 to 8, and columns 2 to 4\n",
    "# Task_2=df.iloc[4:9,2:5]\n",
    "# print(Task_2)\n",
    "\n",
    "\n",
    "# Task 3: Select all rows with column index 1 to 3 (include index 3 during selection)\n",
    "Task_3=df.iloc[:,1:4]\n",
    "print(Task_3)"
   ]
  },
  {
   "cell_type": "code",
   "execution_count": 209,
   "id": "5fe79ac8-555d-44f9-972d-b12a05d441a7",
   "metadata": {},
   "outputs": [
    {
     "name": "stdout",
     "output_type": "stream",
     "text": [
      "   Id  SepalLengthCm  SepalWidthCm  PetalLengthCm  PetalWidthCm      Species\n",
      "0   1            5.1           3.5            1.4           0.2  Iris-setosa\n",
      "1   2            4.9           3.0            1.4           0.2  Iris-setosa\n",
      "2   3            4.7           3.2            1.3           0.2  Iris-setosa\n",
      "3   4            4.6           3.1            1.5           0.2  Iris-setosa\n",
      "4   5            5.0           3.6            1.4           0.2  Iris-setosa\n",
      "      Id  SepalLengthCm  SepalWidthCm  PetalLengthCm  PetalWidthCm  \\\n",
      "0      1            5.1           3.5            1.4           0.2   \n",
      "1      2            4.9           3.0            1.4           0.2   \n",
      "2      3            4.7           3.2            1.3           0.2   \n",
      "3      4            4.6           3.1            1.5           0.2   \n",
      "5      6            5.4           3.9            1.7           0.4   \n",
      "..   ...            ...           ...            ...           ...   \n",
      "145  146            6.7           3.0            5.2           2.3   \n",
      "146  147            6.3           2.5            5.0           1.9   \n",
      "147  148            6.5           3.0            5.2           2.0   \n",
      "148  149            6.2           3.4            5.4           2.3   \n",
      "149  150            5.9           3.0            5.1           1.8   \n",
      "\n",
      "            Species  \n",
      "0       Iris-setosa  \n",
      "1       Iris-setosa  \n",
      "2       Iris-setosa  \n",
      "3       Iris-setosa  \n",
      "5       Iris-setosa  \n",
      "..              ...  \n",
      "145  Iris-virginica  \n",
      "146  Iris-virginica  \n",
      "147  Iris-virginica  \n",
      "148  Iris-virginica  \n",
      "149  Iris-virginica  \n",
      "\n",
      "[149 rows x 6 columns]\n"
     ]
    }
   ],
   "source": [
    "#         QUESTION 4\n",
    "\n",
    "df1=pd.read_csv(\"iris.csv\")\n",
    "print(df1.head()) # it will print the First 5 row\n",
    "# print(df1.tail()) # it will print the last 5 row\n",
    "# print(df1[0:45])  #  it is used for row 0 to row 44 \n",
    "\n"
   ]
  },
  {
   "cell_type": "code",
   "execution_count": 241,
   "id": "fce9560b-4cc3-47fe-a33c-b57d8011c349",
   "metadata": {},
   "outputs": [
    {
     "name": "stdout",
     "output_type": "stream",
     "text": [
      "      Id  SepalLengthCm  SepalWidthCm  PetalLengthCm  PetalWidthCm  \\\n",
      "0      1            5.1           3.5            1.4           0.2   \n",
      "1      2            4.9           3.0            1.4           0.2   \n",
      "2      3            4.7           3.2            1.3           0.2   \n",
      "3      4            4.6           3.1            1.5           0.2   \n",
      "5      6            5.4           3.9            1.7           0.4   \n",
      "..   ...            ...           ...            ...           ...   \n",
      "145  146            6.7           3.0            5.2           2.3   \n",
      "146  147            6.3           2.5            5.0           1.9   \n",
      "147  148            6.5           3.0            5.2           2.0   \n",
      "148  149            6.2           3.4            5.4           2.3   \n",
      "149  150            5.9           3.0            5.1           1.8   \n",
      "\n",
      "            Species  \n",
      "0       Iris-setosa  \n",
      "1       Iris-setosa  \n",
      "2       Iris-setosa  \n",
      "3       Iris-setosa  \n",
      "5       Iris-setosa  \n",
      "..              ...  \n",
      "145  Iris-virginica  \n",
      "146  Iris-virginica  \n",
      "147  Iris-virginica  \n",
      "148  Iris-virginica  \n",
      "149  Iris-virginica  \n",
      "\n",
      "[149 rows x 6 columns]\n"
     ]
    }
   ],
   "source": [
    "#         QUESTION 5  Delete row 4\n",
    "df1=pd.read_csv(\"iris.csv\")\n",
    "df1 = df1.drop(index=4)\n",
    "print(df1)\n"
   ]
  },
  {
   "cell_type": "code",
   "execution_count": 243,
   "id": "c0dc3a66-6861-459c-b255-874bd29f4038",
   "metadata": {},
   "outputs": [
    {
     "name": "stdout",
     "output_type": "stream",
     "text": [
      "      Id  SepalLengthCm  SepalWidthCm  PetalWidthCm         Species\n",
      "0      1            5.1           3.5           0.2     Iris-setosa\n",
      "1      2            4.9           3.0           0.2     Iris-setosa\n",
      "2      3            4.7           3.2           0.2     Iris-setosa\n",
      "3      4            4.6           3.1           0.2     Iris-setosa\n",
      "5      6            5.4           3.9           0.4     Iris-setosa\n",
      "..   ...            ...           ...           ...             ...\n",
      "145  146            6.7           3.0           2.3  Iris-virginica\n",
      "146  147            6.3           2.5           1.9  Iris-virginica\n",
      "147  148            6.5           3.0           2.0  Iris-virginica\n",
      "148  149            6.2           3.4           2.3  Iris-virginica\n",
      "149  150            5.9           3.0           1.8  Iris-virginica\n",
      "\n",
      "[149 rows x 5 columns]\n"
     ]
    }
   ],
   "source": [
    "#         QUESTION 5    Delete column 3 (0-based index, so it's the 4th column in the dataset)\n",
    "df2= df1.drop(columns=df1.columns[3])\n",
    "print(df2)"
   ]
  },
  {
   "cell_type": "code",
   "execution_count": 11,
   "id": "46cb57c0-8e07-49e0-8810-43b7ccf818da",
   "metadata": {},
   "outputs": [
    {
     "name": "stdout",
     "output_type": "stream",
     "text": [
      "   Employee_ID     Name Department  Age  Salary  Years_of_Experience  \\\n",
      "0          101    Alice         HR   29   50000                    4   \n",
      "1          102      Bob         IT   34   70000                    8   \n",
      "2          103  Charlie         IT   41   65000                   10   \n",
      "3          104    Diana  Marketing   28   55000                    3   \n",
      "4          105   Edward      Sales   38   60000                   12   \n",
      "\n",
      "  Joining_Date  Gender  Bonus  Rating  \n",
      "0   2020-03-15  Female   5000     4.5  \n",
      "1   2017-07-19    Male   7000     4.0  \n",
      "2   2013-06-01    Male   6000     3.8  \n",
      "3   2021-02-10  Female   4500     4.7  \n",
      "4   2010-11-25    Male   5000     3.5  \n"
     ]
    }
   ],
   "source": [
    "#         QUESTION 6\n",
    "# import pandas as pd\n",
    "import pandas as pd\n",
    "\n",
    "# Create the dataset\n",
    "data = {\n",
    "    'Employee_ID': [101, 102, 103, 104, 105],\n",
    "    'Name': ['Alice', 'Bob', 'Charlie', 'Diana', 'Edward'],\n",
    "    'Department': ['HR', 'IT', 'IT', 'Marketing', 'Sales'],\n",
    "    'Age': [29, 34, 41, 28, 38],\n",
    "    'Salary': [50000, 70000, 65000, 55000, 60000],\n",
    "    'Years_of_Experience': [4, 8, 10, 3, 12],\n",
    "    'Joining_Date': ['2020-03-15', '2017-07-19', '2013-06-01', '2021-02-10', '2010-11-25'],\n",
    "    'Gender': ['Female', 'Male', 'Male', 'Female', 'Male'],\n",
    "    'Bonus': [5000, 7000, 6000, 4500, 5000],\n",
    "    'Rating': [4.5, 4.0, 3.8, 4.7, 3.5]\n",
    "}\n",
    "df = pd.DataFrame(data)\n",
    "print(df)\n"
   ]
  },
  {
   "cell_type": "code",
   "execution_count": 13,
   "id": "65f1d372-1060-4fba-a139-3f44b1a243cd",
   "metadata": {},
   "outputs": [
    {
     "name": "stdout",
     "output_type": "stream",
     "text": [
      "Shape of the DataFrame: (5, 10)\n"
     ]
    }
   ],
   "source": [
    "# a) Shape of the DataFrame\n",
    "shape = df.shape\n",
    "print(\"Shape of the DataFrame:\", shape)\n"
   ]
  },
  {
   "cell_type": "code",
   "execution_count": 15,
   "id": "07c16b1e-cfb9-4e45-ad69-4ece8bb6e20c",
   "metadata": {},
   "outputs": [
    {
     "name": "stdout",
     "output_type": "stream",
     "text": [
      "<class 'pandas.core.frame.DataFrame'>\n",
      "RangeIndex: 5 entries, 0 to 4\n",
      "Data columns (total 10 columns):\n",
      " #   Column               Non-Null Count  Dtype  \n",
      "---  ------               --------------  -----  \n",
      " 0   Employee_ID          5 non-null      int64  \n",
      " 1   Name                 5 non-null      object \n",
      " 2   Department           5 non-null      object \n",
      " 3   Age                  5 non-null      int64  \n",
      " 4   Salary               5 non-null      int64  \n",
      " 5   Years_of_Experience  5 non-null      int64  \n",
      " 6   Joining_Date         5 non-null      object \n",
      " 7   Gender               5 non-null      object \n",
      " 8   Bonus                5 non-null      int64  \n",
      " 9   Rating               5 non-null      float64\n",
      "dtypes: float64(1), int64(5), object(4)\n",
      "memory usage: 532.0+ bytes\n"
     ]
    }
   ],
   "source": [
    "# b) Summary of the DataFrame\n",
    "summary = df.info()\n"
   ]
  },
  {
   "cell_type": "code",
   "execution_count": 17,
   "id": "57858818-b9c9-46ab-81a9-97d25050d1bd",
   "metadata": {},
   "outputs": [
    {
     "name": "stdout",
     "output_type": "stream",
     "text": [
      "Descriptive Statistics:\n",
      "       Employee_ID        Age       Salary  Years_of_Experience   Bonus  \\\n",
      "count     5.000000   5.000000      5.00000             5.000000     5.0   \n",
      "mean    103.000000  34.000000  60000.00000             7.400000  5500.0   \n",
      "std       1.581139   5.612486   7905.69415             3.847077  1000.0   \n",
      "min     101.000000  28.000000  50000.00000             3.000000  4500.0   \n",
      "25%     102.000000  29.000000  55000.00000             4.000000  5000.0   \n",
      "50%     103.000000  34.000000  60000.00000             8.000000  5000.0   \n",
      "75%     104.000000  38.000000  65000.00000            10.000000  6000.0   \n",
      "max     105.000000  41.000000  70000.00000            12.000000  7000.0   \n",
      "\n",
      "         Rating  \n",
      "count  5.000000  \n",
      "mean   4.100000  \n",
      "std    0.494975  \n",
      "min    3.500000  \n",
      "25%    3.800000  \n",
      "50%    4.000000  \n",
      "75%    4.500000  \n",
      "max    4.700000  \n"
     ]
    }
   ],
   "source": [
    "# c) Descriptive statistics\n",
    "descriptive_stats = df.describe()\n",
    "print(\"Descriptive Statistics:\")\n",
    "print(descriptive_stats)\n"
   ]
  },
  {
   "cell_type": "code",
   "execution_count": 19,
   "id": "a6bdb059-de6e-439a-a150-fe90737d3757",
   "metadata": {},
   "outputs": [
    {
     "name": "stdout",
     "output_type": "stream",
     "text": [
      "First 5 rows:\n",
      "   Employee_ID     Name Department  Age  Salary  Years_of_Experience  \\\n",
      "0          101    Alice         HR   29   50000                    4   \n",
      "1          102      Bob         IT   34   70000                    8   \n",
      "2          103  Charlie         IT   41   65000                   10   \n",
      "3          104    Diana  Marketing   28   55000                    3   \n",
      "4          105   Edward      Sales   38   60000                   12   \n",
      "\n",
      "  Joining_Date  Gender  Bonus  Rating  \n",
      "0   2020-03-15  Female   5000     4.5  \n",
      "1   2017-07-19    Male   7000     4.0  \n",
      "2   2013-06-01    Male   6000     3.8  \n",
      "3   2021-02-10  Female   4500     4.7  \n",
      "4   2010-11-25    Male   5000     3.5  \n",
      "\n",
      "Last 3 rows:\n",
      "   Employee_ID     Name Department  Age  Salary  Years_of_Experience  \\\n",
      "2          103  Charlie         IT   41   65000                   10   \n",
      "3          104    Diana  Marketing   28   55000                    3   \n",
      "4          105   Edward      Sales   38   60000                   12   \n",
      "\n",
      "  Joining_Date  Gender  Bonus  Rating  \n",
      "2   2013-06-01    Male   6000     3.8  \n",
      "3   2021-02-10  Female   4500     4.7  \n",
      "4   2010-11-25    Male   5000     3.5  \n"
     ]
    }
   ],
   "source": [
    "# d) Display the first 5 and last 3 rows\n",
    "first_5 = df.head()\n",
    "last_3 = df.tail(3)\n",
    "print(\"First 5 rows:\")\n",
    "print(first_5)\n",
    "print(\"\\nLast 3 rows:\")\n",
    "print(last_3)\n"
   ]
  },
  {
   "cell_type": "code",
   "execution_count": 21,
   "id": "66f7cb3a-d148-45fa-b01c-ba54257b92c6",
   "metadata": {},
   "outputs": [
    {
     "name": "stdout",
     "output_type": "stream",
     "text": [
      "Average Salary: 60000.0\n",
      "Total Bonus: 27500\n",
      "Youngest Age: 28\n",
      "Highest Rating: 4.7\n"
     ]
    }
   ],
   "source": [
    "# e) Calculate specific statistics\n",
    "average_salary = df['Salary'].mean()\n",
    "total_bonus = df['Bonus'].sum()\n",
    "youngest_age = df['Age'].min()\n",
    "highest_rating = df['Rating'].max()\n",
    "\n",
    "print(\"Average Salary:\", average_salary)\n",
    "print(\"Total Bonus:\", total_bonus)\n",
    "print(\"Youngest Age:\", youngest_age)\n",
    "print(\"Highest Rating:\", highest_rating)\n"
   ]
  },
  {
   "cell_type": "code",
   "execution_count": 23,
   "id": "46758cff-4e09-44e9-8e0d-cb84c431dee1",
   "metadata": {},
   "outputs": [
    {
     "name": "stdout",
     "output_type": "stream",
     "text": [
      "DataFrame sorted by Salary in descending order:\n",
      "   Employee_ID     Name Department  Age  Salary  Years_of_Experience  \\\n",
      "1          102      Bob         IT   34   70000                    8   \n",
      "2          103  Charlie         IT   41   65000                   10   \n",
      "4          105   Edward      Sales   38   60000                   12   \n",
      "3          104    Diana  Marketing   28   55000                    3   \n",
      "0          101    Alice         HR   29   50000                    4   \n",
      "\n",
      "  Joining_Date  Gender  Bonus  Rating  \n",
      "1   2017-07-19    Male   7000     4.0  \n",
      "2   2013-06-01    Male   6000     3.8  \n",
      "4   2010-11-25    Male   5000     3.5  \n",
      "3   2021-02-10  Female   4500     4.7  \n",
      "0   2020-03-15  Female   5000     4.5  \n"
     ]
    }
   ],
   "source": [
    "# f) Sort by Salary in descending order\n",
    "sorted_df = df.sort_values(by='Salary', ascending=False)\n",
    "print(\"DataFrame sorted by Salary in descending order:\")\n",
    "print(sorted_df)\n"
   ]
  },
  {
   "cell_type": "code",
   "execution_count": 25,
   "id": "f0255a87-87ae-49f3-8820-b4bc02b73eb8",
   "metadata": {},
   "outputs": [
    {
     "name": "stdout",
     "output_type": "stream",
     "text": [
      "DataFrame with Performance_Category column:\n",
      "   Employee_ID     Name Department  Age  Salary  Years_of_Experience  \\\n",
      "0          101    Alice         HR   29   50000                    4   \n",
      "1          102      Bob         IT   34   70000                    8   \n",
      "2          103  Charlie         IT   41   65000                   10   \n",
      "3          104    Diana  Marketing   28   55000                    3   \n",
      "4          105   Edward      Sales   38   60000                   12   \n",
      "\n",
      "  Joining_Date  Gender  Bonus  Rating Performance_Category  \n",
      "0   2020-03-15  Female   5000     4.5            Excellent  \n",
      "1   2017-07-19    Male   7000     4.0                 Good  \n",
      "2   2013-06-01    Male   6000     3.8              Average  \n",
      "3   2021-02-10  Female   4500     4.7            Excellent  \n",
      "4   2010-11-25    Male   5000     3.5              Average  \n"
     ]
    }
   ],
   "source": [
    "# g) Add a column categorizing employees based on ratings\n",
    "def categorize_rating(rating):\n",
    "    if rating >= 4.5:\n",
    "        return 'Excellent'\n",
    "    elif 4.0 <= rating < 4.5:\n",
    "        return 'Good'\n",
    "    else:\n",
    "        return 'Average'\n",
    "\n",
    "df['Performance_Category'] = df['Rating'].apply(categorize_rating)\n",
    "print(\"DataFrame with Performance_Category column:\")\n",
    "print(df)\n"
   ]
  },
  {
   "cell_type": "code",
   "execution_count": 27,
   "id": "025cd285-f0ff-43d0-8291-47a39a6541bb",
   "metadata": {},
   "outputs": [
    {
     "name": "stdout",
     "output_type": "stream",
     "text": [
      "Missing values in the DataFrame:\n",
      "Employee_ID             0\n",
      "Name                    0\n",
      "Department              0\n",
      "Age                     0\n",
      "Salary                  0\n",
      "Years_of_Experience     0\n",
      "Joining_Date            0\n",
      "Gender                  0\n",
      "Bonus                   0\n",
      "Rating                  0\n",
      "Performance_Category    0\n",
      "dtype: int64\n"
     ]
    }
   ],
   "source": [
    "# h) Identify missing values\n",
    "missing_values = df.isnull().sum()\n",
    "print(\"Missing values in the DataFrame:\")\n",
    "print(missing_values)\n"
   ]
  },
  {
   "cell_type": "code",
   "execution_count": 29,
   "id": "c31ec850-bdfe-4b09-8c1e-323ef07bc4b4",
   "metadata": {},
   "outputs": [
    {
     "name": "stdout",
     "output_type": "stream",
     "text": [
      "DataFrame with renamed column:\n",
      "    ID     Name Department  Age  Salary  Years_of_Experience Joining_Date  \\\n",
      "0  101    Alice         HR   29   50000                    4   2020-03-15   \n",
      "1  102      Bob         IT   34   70000                    8   2017-07-19   \n",
      "2  103  Charlie         IT   41   65000                   10   2013-06-01   \n",
      "3  104    Diana  Marketing   28   55000                    3   2021-02-10   \n",
      "4  105   Edward      Sales   38   60000                   12   2010-11-25   \n",
      "\n",
      "   Gender  Bonus  Rating Performance_Category  \n",
      "0  Female   5000     4.5            Excellent  \n",
      "1    Male   7000     4.0                 Good  \n",
      "2    Male   6000     3.8              Average  \n",
      "3  Female   4500     4.7            Excellent  \n",
      "4    Male   5000     3.5              Average  \n"
     ]
    }
   ],
   "source": [
    "# i) Rename Employee_ID to ID\n",
    "df.rename(columns={'Employee_ID': 'ID'}, inplace=True)\n",
    "print(\"DataFrame with renamed column:\")\n",
    "print(df)\n"
   ]
  },
  {
   "cell_type": "code",
   "execution_count": 31,
   "id": "5dc20726-1a3d-465f-95c1-b455c0430918",
   "metadata": {},
   "outputs": [
    {
     "name": "stdout",
     "output_type": "stream",
     "text": [
      "Employees with more than 5 years of experience:\n",
      "    ID     Name Department  Age  Salary  Years_of_Experience Joining_Date  \\\n",
      "1  102      Bob         IT   34   70000                    8   2017-07-19   \n",
      "2  103  Charlie         IT   41   65000                   10   2013-06-01   \n",
      "4  105   Edward      Sales   38   60000                   12   2010-11-25   \n",
      "\n",
      "  Gender  Bonus  Rating Performance_Category  \n",
      "1   Male   7000     4.0                 Good  \n",
      "2   Male   6000     3.8              Average  \n",
      "4   Male   5000     3.5              Average  \n",
      "\n",
      "Employees in IT Department:\n",
      "    ID     Name Department  Age  Salary  Years_of_Experience Joining_Date  \\\n",
      "1  102      Bob         IT   34   70000                    8   2017-07-19   \n",
      "2  103  Charlie         IT   41   65000                   10   2013-06-01   \n",
      "\n",
      "  Gender  Bonus  Rating Performance_Category  \n",
      "1   Male   7000     4.0                 Good  \n",
      "2   Male   6000     3.8              Average  \n"
     ]
    }
   ],
   "source": [
    "# j) Find employees with >5 years of experience and in IT Department\n",
    "employees_over_5_years = df[df['Years_of_Experience'] > 5]\n",
    "employees_in_it = df[df['Department'] == 'IT']\n",
    "\n",
    "print(\"Employees with more than 5 years of experience:\")\n",
    "print(employees_over_5_years)\n",
    "print(\"\\nEmployees in IT Department:\")\n",
    "print(employees_in_it)\n"
   ]
  },
  {
   "cell_type": "code",
   "execution_count": 33,
   "id": "afa27174-331f-4361-98a7-a58371a02d1d",
   "metadata": {},
   "outputs": [
    {
     "name": "stdout",
     "output_type": "stream",
     "text": [
      "DataFrame with Tax column:\n",
      "    ID     Name Department  Age  Salary  Years_of_Experience Joining_Date  \\\n",
      "0  101    Alice         HR   29   50000                    4   2020-03-15   \n",
      "1  102      Bob         IT   34   70000                    8   2017-07-19   \n",
      "2  103  Charlie         IT   41   65000                   10   2013-06-01   \n",
      "3  104    Diana  Marketing   28   55000                    3   2021-02-10   \n",
      "4  105   Edward      Sales   38   60000                   12   2010-11-25   \n",
      "\n",
      "   Gender  Bonus  Rating Performance_Category     Tax  \n",
      "0  Female   5000     4.5            Excellent  5000.0  \n",
      "1    Male   7000     4.0                 Good  7000.0  \n",
      "2    Male   6000     3.8              Average  6500.0  \n",
      "3  Female   4500     4.7            Excellent  5500.0  \n",
      "4    Male   5000     3.5              Average  6000.0  \n"
     ]
    }
   ],
   "source": [
    "# k) Add a new column, Tax (10% of Salary)\n",
    "df['Tax'] = df['Salary'] * 0.10\n",
    "print(\"DataFrame with Tax column:\")\n",
    "print(df)\n"
   ]
  },
  {
   "cell_type": "code",
   "execution_count": 35,
   "id": "e3b1afcd-2cd7-42d3-89f0-c7fbadd45488",
   "metadata": {},
   "outputs": [
    {
     "name": "stdout",
     "output_type": "stream",
     "text": [
      "Modified DataFrame has been saved to 'modified_employees.csv'.\n"
     ]
    }
   ],
   "source": [
    "# l) Save the modified DataFrame to a new CSV file\n",
    "df.to_csv('modified_employees.csv', index=False)\n",
    "print(\"Modified DataFrame has been saved to 'modified_employees.csv'.\")\n"
   ]
  },
  {
   "cell_type": "code",
   "execution_count": 446,
   "id": "fef3ff82-5740-4e09-a2f0-b469800f120d",
   "metadata": {},
   "outputs": [
    {
     "name": "stdout",
     "output_type": "stream",
     "text": [
      "\n",
      "Modified DataFrame saved to 'modified_employees.csv'\n"
     ]
    }
   ],
   "source": [
    "\n",
    "# l) Save the modified DataFrame to a new CSV file\n",
    "df3.to_csv('modified_employees.csv', index=False)\n",
    "print(\"\\nModified DataFrame saved to 'modified_employees.csv'\")"
   ]
  }
 ],
 "metadata": {
  "kernelspec": {
   "display_name": "Python 3 (ipykernel)",
   "language": "python",
   "name": "python3"
  },
  "language_info": {
   "codemirror_mode": {
    "name": "ipython",
    "version": 3
   },
   "file_extension": ".py",
   "mimetype": "text/x-python",
   "name": "python",
   "nbconvert_exporter": "python",
   "pygments_lexer": "ipython3",
   "version": "3.12.4"
  }
 },
 "nbformat": 4,
 "nbformat_minor": 5
}
