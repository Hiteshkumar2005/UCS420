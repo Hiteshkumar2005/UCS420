{
 "cells": [
  {
   "cell_type": "code",
   "execution_count": 5,
   "id": "e91e7645-0936-4afd-806f-99524399bb80",
   "metadata": {},
   "outputs": [
    {
     "name": "stderr",
     "output_type": "stream",
     "text": [
      "[nltk_data] Downloading package punkt to C:\\Users\\Hitesh\n",
      "[nltk_data]     Kumar\\AppData\\Roaming\\nltk_data...\n",
      "[nltk_data]   Unzipping tokenizers\\punkt.zip.\n"
     ]
    },
    {
     "data": {
      "text/plain": [
       "True"
      ]
     },
     "execution_count": 5,
     "metadata": {},
     "output_type": "execute_result"
    }
   ],
   "source": [
    "import nltk\n",
    "nltk.download('punkt')\n"
   ]
  },
  {
   "cell_type": "markdown",
   "id": "7e22cff3-238c-41ec-9eb0-f058c6cc10cf",
   "metadata": {},
   "source": [
    "**Q1. Write a unique paragraph (5-6 sentences) about your favorite topic (e.g., sports,\n",
    "technology, food, books, etc.).**\n",
    "1. Convert text to lowercase and remove punctua on."
   ]
  },
  {
   "cell_type": "code",
   "execution_count": 7,
   "id": "77f76956-ab3d-452f-bc91-28e072699132",
   "metadata": {},
   "outputs": [
    {
     "name": "stdout",
     "output_type": "stream",
     "text": [
      "i enjoy playing online games because they are fun and let me connect with friends games like valorant are great for team play and fast action while gta v gives you a big open world to explore and do missions minecraft is creative—you can build anything you imagine alone or with others fortnite is exciting too especially the survival mode where you try to be the last one standing these games are not just for fun they also help with thinking teamwork and quick decision-making playing online games is a cool way to relax and enjoy time with people around the world \n"
     ]
    }
   ],
   "source": [
    "from nltk.tokenize import word_tokenize\n",
    "\n",
    "text = \"\"\"I enjoy playing online games because they are fun\n",
    "and let me connect with friends. Games like Valorant are\n",
    "great for team play and fast action, while GTA V gives\n",
    "you a big open world to explore and do missions.\n",
    "Minecraft is creative—you can build anything you imagine\n",
    ", alone or with others. Fortnite is exciting too, especially\n",
    "the survival mode where you try to be the last one standing.\n",
    "These games are not just for fun, they also help with thinking,\n",
    "teamwork, and quick decision-making. Playing online games is a\n",
    "cool way to relax and enjoy time with people around the world.\"\"\"\n",
    "\n",
    "lower = text.lower()\n",
    "words = word_tokenize(lower)\n",
    "\n",
    "punctuations = ['!', '\"', '#', '$', '%', '&', \"'\", ',', '-',\n",
    "                '.', ':', ';', '?', '^', '_', '`','~']\n",
    "tempRes = [word for word in words if word not in punctuations]\n",
    "\n",
    "# Merging the resultant words into a single string again\n",
    "res = \"\"\n",
    "for word in tempRes:\n",
    "    res += word\n",
    "    res += \" \"\n",
    "print(res)"
   ]
  },
  {
   "cell_type": "markdown",
   "id": "33d734ea-aeb2-4a2f-acef-0f7b940efcc0",
   "metadata": {},
   "source": [
    "2. Tokenize the text into words and sentences."
   ]
  },
  {
   "cell_type": "code",
   "execution_count": 9,
   "id": "8fdd0fd3-bf01-42f2-b6cd-2c9f6b55c3ca",
   "metadata": {},
   "outputs": [
    {
     "name": "stdout",
     "output_type": "stream",
     "text": [
      "Words:\n",
      "\n",
      "['I', 'enjoy', 'playing', 'online', 'games', 'because', 'they', 'are', 'fun', 'and', 'let', 'me', 'connect', 'with', 'friends', '.', 'Games', 'like', 'Valorant', 'are', 'great', 'for', 'team', 'play', 'and', 'fast', 'action', ',', 'while', 'GTA', 'V', 'gives', 'you', 'a', 'big', 'open', 'world', 'to', 'explore', 'and', 'do', 'missions', '.', 'Minecraft', 'is', 'creative—you', 'can', 'build', 'anything', 'you', 'imagine', ',', 'alone', 'or', 'with', 'others', '.', 'Fortnite', 'is', 'exciting', 'too', ',', 'especially', 'the', 'survival', 'mode', 'where', 'you', 'try', 'to', 'be', 'the', 'last', 'one', 'standing', '.', 'These', 'games', 'are', 'not', 'just', 'for', 'fun', ',', 'they', 'also', 'help', 'with', 'thinking', ',', 'teamwork', ',', 'and', 'quick', 'decision-making', '.', 'Playing', 'online', 'games', 'is', 'a', 'cool', 'way', 'to', 'relax', 'and', 'enjoy', 'time', 'with', 'people', 'around', 'the', 'world', '.']\n",
      "\n",
      "\n",
      "Sentences:\n",
      "\n",
      "I enjoy playing online games because they are fun\n",
      "and let me connect with friends.\n",
      "Games like Valorant are\n",
      "great for team play and fast action, while GTA V gives\n",
      "you a big open world to explore and do missions.\n",
      "Minecraft is creative—you can build anything you imagine\n",
      ", alone or with others.\n",
      "Fortnite is exciting too, especially\n",
      "the survival mode where you try to be the last one standing.\n",
      "These games are not just for fun, they also help with thinking,\n",
      "teamwork, and quick decision-making.\n",
      "Playing online games is a\n",
      "cool way to relax and enjoy time with people around the world.\n"
     ]
    }
   ],
   "source": [
    "from nltk.tokenize import word_tokenize\n",
    "from nltk.tokenize import sent_tokenize\n",
    "\n",
    "words = word_tokenize(text)\n",
    "sentences = sent_tokenize(text)\n",
    "\n",
    "print(\"Words:\\n\")\n",
    "print(words)\n",
    "print(\"\\n\")\n",
    "\n",
    "print(\"Sentences:\\n\")\n",
    "for sentence in sentences:\n",
    "    print(sentence)"
   ]
  },
  {
   "cell_type": "markdown",
   "id": "68831ed9-2072-4478-a831-ef85431f201c",
   "metadata": {},
   "source": [
    "3. Remove stopwords (using NLTK's stopwords list)."
   ]
  },
  {
   "cell_type": "code",
   "execution_count": 33,
   "id": "702603ad-bb41-4a62-a2ed-67003401f6f6",
   "metadata": {},
   "outputs": [
    {
     "name": "stdout",
     "output_type": "stream",
     "text": [
      "['This', 'example', 'sentence', ',', 'punctuation', 'stopwords', '!']\n"
     ]
    }
   ],
   "source": [
    "from nltk.tokenize import word_tokenize\n",
    "from nltk.corpus import stopwords\n",
    "\n",
    "# Using the resultant string from Q1)1. coz that avoids punctuations as well, so it'd provide a better result\n",
    "token = word_tokenize(res)\n",
    "stop_words = set(stopwords.words('english'))\n",
    "\n",
    "resStr = [word for word in token if word not in stop_words]\n",
    "print(resStr)"
   ]
  },
  {
   "cell_type": "markdown",
   "id": "c5327e41-a9d8-42bd-b906-d703df62e9b2",
   "metadata": {},
   "source": [
    "4. Display word frequency distribu on (excluding stopwords)."
   ]
  },
  {
   "cell_type": "code",
   "execution_count": 35,
   "id": "212683c4-6e48-4364-abcb-5c3398a4dc7d",
   "metadata": {},
   "outputs": [
    {
     "name": "stdout",
     "output_type": "stream",
     "text": [
      "<FreqDist with 7 samples and 7 outcomes>\n"
     ]
    },
    {
     "data": {
      "image/png": "[encoded data removed]",
      "text/plain": [
       "<Figure size 640x480 with 1 Axes>"
      ]
     },
     "metadata": {},
     "output_type": "display_data"
    },
    {
     "data": {
      "text/plain": [
       "<Axes: title={'center': 'Top 10 Word Frequencies (excluding stopwords)'}, xlabel='Samples', ylabel='Counts'>"
      ]
     },
     "execution_count": 35,
     "metadata": {},
     "output_type": "execute_result"
    }
   ],
   "source": [
    "from nltk.tokenize import word_tokenize\n",
    "from nltk.corpus import stopwords\n",
    "from nltk.probability import FreqDist\n",
    "\n",
    "# Using output of Q1) 3.\n",
    "frequency = FreqDist(resStr)\n",
    "print(frequency)\n",
    "frequency.plot(10, title=\"Top 10 Word Frequencies (excluding stopwords)\")"
   ]
  },
  {
   "cell_type": "markdown",
   "id": "81402dbc-32c1-42a7-8924-302f1d26f8c0",
   "metadata": {},
   "source": [
    "**Q2: Stemming and Lemmatization**\n",
    "1. Take the tokenized words from Ques on 1 (after stopword removal).\n",
    "2. Apply stemming using NLTK's PorterStemmer and LancasterStemmer."
   ]
  },
  {
   "cell_type": "code",
   "execution_count": 37,
   "id": "f6a8e579-fdac-4e14-a354-ffbd9c92ae8f",
   "metadata": {},
   "outputs": [
    {
     "name": "stdout",
     "output_type": "stream",
     "text": [
      "This  :  thi\n",
      "example  :  exampl\n",
      "sentence  :  sentenc\n",
      ",  :  ,\n",
      "punctuation  :  punctuat\n",
      "stopwords  :  stopword\n",
      "!  :  !\n",
      "\n",
      "Lancaster Stemming:\n",
      "\n",
      "This  :  thi\n",
      "example  :  exampl\n",
      "sentence  :  sent\n",
      ",  :  ,\n",
      "punctuation  :  punctu\n",
      "stopwords  :  stopword\n",
      "!  :  !\n"
     ]
    }
   ],
   "source": [
    "input = resStr\n",
    "from nltk.stem import PorterStemmer\n",
    "from nltk.stem import LancasterStemmer\n",
    "\n",
    "porter = PorterStemmer()\n",
    "lancaster = LancasterStemmer()\n",
    "\n",
    "for word in input:\n",
    "    print(word, \" : \", porter.stem(word))\n",
    "print(\"\\nLancaster Stemming:\\n\")\n",
    "for word in input:\n",
    "    print(word, \" : \", lancaster.stem(word))"
   ]
  },
  {
   "cell_type": "markdown",
   "id": "65f6fa62-19d0-4fb7-afa4-f91149990be1",
   "metadata": {},
   "source": [
    "3. Apply lemmatization using NLTK's WordNetLemmatizer."
   ]
  },
  {
   "cell_type": "code",
   "execution_count": 42,
   "id": "7ed7a06f-5820-4632-bf99-30b32db8c074",
   "metadata": {},
   "outputs": [
    {
     "name": "stdout",
     "output_type": "stream",
     "text": [
      "This  :  This\n",
      "example  :  example\n",
      "sentence  :  sentence\n",
      ",  :  ,\n",
      "punctuation  :  punctuation\n",
      "stopwords  :  stopwords\n",
      "!  :  !\n"
     ]
    }
   ],
   "source": [
    "from nltk.stem import WordNetLemmatizer\n",
    "wordnet = WordNetLemmatizer()\n",
    "\n",
    "for word in input:\n",
    "    print(word, \" : \", wordnet.lemmatize(word))"
   ]
  },
  {
   "cell_type": "code",
   "execution_count": 44,
   "id": "1174fa3a-b718-4cff-a740-4a4a9a7bcf4b",
   "metadata": {},
   "outputs": [
    {
     "name": "stdout",
     "output_type": "stream",
     "text": [
      "Original    PorterStemmer     LancasterStemmer  WordNetLemmatizer \n",
      "\n",
      "\n",
      "This        thi               thi               This              \n",
      "example     exampl            exampl            example           \n",
      "sentence    sentenc           sent              sentence          \n",
      ",           ,                 ,                 ,                 \n",
      "punctuation punctuat          punctu            punctuation       \n",
      "stopwords   stopword          stopword          stopwords         \n",
      "!           !                 !                 !                 \n"
     ]
    }
   ],
   "source": [
    "print(f\"{'Original':<12}{'PorterStemmer':<18}{'LancasterStemmer':<18}{'WordNetLemmatizer':<18}\")\n",
    "print(\"\\n\")\n",
    "\n",
    "# Conclusion: The lancaster stemmer is so aggressive than the porter stemmer. It removes a lot of characters and often loses meaning of the\n",
    "# word. The porter stemmer is less aggressive but it still lacks precision in some cases.\n",
    "# The WordNetStemmer on the other hand is so accurate coz it looks up the word on web and then perform stemming precisely. Like, you can see\n",
    "# in the word \"valorant\", the porter gave \"valor\" lancaster gave \"val\" but wn gave \"valorant\" which is the actual name of the game. It\n",
    "# maintained the context of the word.\n",
    "\n",
    "for word in input:\n",
    "    p_stem = porter.stem(word)\n",
    "    l_stem = lancaster.stem(word)\n",
    "    w_stem = wordnet.lemmatize(word)\n",
    "    print(f\"{word:<12}{p_stem:<18}{l_stem:<18}{w_stem:<18}\")"
   ]
  },
  {
   "cell_type": "markdown",
   "id": "2c76f3ad-6ce2-437e-8afe-5a9c7db11c8e",
   "metadata": {},
   "source": [
    "**Q3. Regular Expressions and Text Splittng**\n",
    "1. Take their original text from Ques on 1.\n",
    "2. Use regular expressions to:<br>\n",
    "a. Extract all words with more than 5 letters.<br>\n",
    "b. Extract all numbers (if any exist in their text).<br>\n",
    "c. Extract all capitalized words.<br>"
   ]
  },
  {
   "cell_type": "code",
   "execution_count": 46,
   "id": "e05fbdba-2cfc-47cc-a27a-c4ecd0f37120",
   "metadata": {},
   "outputs": [
    {
     "name": "stdout",
     "output_type": "stream",
     "text": [
      "['playing', 'online', 'because', 'connect', 'friends', 'Valorant', 'action', 'explore', 'missions', 'Minecraft', 'creative', 'anything', 'imagine', 'others', 'Fortnite', 'exciting', 'especially', 'survival', 'standing', 'thinking', 'teamwork', 'decision', 'making', 'Playing', 'online', 'people', 'around']\n",
      "['1234']\n",
      "['I', 'GTA', 'V']\n"
     ]
    }
   ],
   "source": [
    "import re\n",
    "ip = text\n",
    "\n",
    "resA = re.findall(r'\\w{6,}', ip)\n",
    "print(resA)\n",
    "\n",
    "# Adding numbers for testing command\n",
    "ip += \"1234\"\n",
    "resB = re.findall(r'\\d+', ip)\n",
    "print(resB)\n",
    "\n",
    "resC = re.findall(r'\\b[A-Z]+\\b', ip)\n",
    "print(resC)"
   ]
  },
  {
   "cell_type": "markdown",
   "id": "7e1b17f6-7eb3-408a-bda9-756024bebcbd",
   "metadata": {},
   "source": [
    "3. Use text splittng techniques to:<br>\n",
    "a. Split the text into words containing only alphabets (removing digits and special\n",
    "characters).<br>\n",
    "b. Extract words starting with a vowel."
   ]
  },
  {
   "cell_type": "code",
   "execution_count": 48,
   "id": "45fa9db9-af4a-4a6f-a651-2a6cebc67025",
   "metadata": {},
   "outputs": [
    {
     "name": "stdout",
     "output_type": "stream",
     "text": [
      "['I', 'enjoy', 'playing', 'online', 'games', 'because', 'they', 'are', 'fun', 'and', 'let', 'me', 'connect', 'with', 'friends', 'Games', 'like', 'Valorant', 'are', 'great', 'for', 'team', 'play', 'and', 'fast', 'action', 'while', 'GTA', 'V', 'gives', 'you', 'a', 'big', 'open', 'world', 'to', 'explore', 'and', 'do', 'missions', 'Minecraft', 'is', 'creative', 'you', 'can', 'build', 'anything', 'you', 'imagine', 'alone', 'or', 'with', 'others', 'Fortnite', 'is', 'exciting', 'too', 'especially', 'the', 'survival', 'mode', 'where', 'you', 'try', 'to', 'be', 'the', 'last', 'one', 'standing', 'These', 'games', 'are', 'not', 'just', 'for', 'fun', 'they', 'also', 'help', 'with', 'thinking', 'teamwork', 'and', 'quick', 'decision', 'making', 'Playing', 'online', 'games', 'is', 'a', 'cool', 'way', 'to', 'relax', 'and', 'enjoy', 'time', 'with', 'people', 'around', 'the', 'world']\n",
      "\n",
      "Vowels only\n",
      "\n",
      "['I', 'enjoy', 'online', 'are', 'and', 'are', 'and', 'action', 'a', 'open', 'explore', 'and', 'is', 'anything', 'imagine', 'alone', 'or', 'others', 'is', 'exciting', 'especially', 'one', 'are', 'also', 'and', 'online', 'is', 'a', 'and', 'enjoy', 'around']\n"
     ]
    }
   ],
   "source": [
    "ip3 = text\n",
    "\n",
    "# Filtering all the alphabets\n",
    "non_digits = re.findall(r'\\b[a-zA-Z]+\\b', ip3)\n",
    "# Filtering out words only to avoid punctuation, digits and special characters\n",
    "words_only = re.findall(r'\\b\\w+\\b', ip3)\n",
    "\n",
    "words_only_set = set(words_only)\n",
    "res3a = [word for word in non_digits if word in words_only_set]\n",
    "print(res3a)\n",
    "\n",
    "res3b = re.findall(r'\\b[aeiouAEIOU]\\w*', text)\n",
    "print(\"\\nVowels only\\n\")\n",
    "print(res3b)"
   ]
  },
  {
   "cell_type": "markdown",
   "id": "5a3f0938-53c7-43b0-9f8c-52f838dd3063",
   "metadata": {},
   "source": [
    "**Q4. Custom Tokeniza on & Regex-based Text Cleaning**\n",
    "1. Take original text from Question 1.\n",
    "2. Write a custom tokeniza on function that:<br>\n",
    "a. Removes punctua on and special symbols, but keeps contrac ons (e.g.,\n",
    "\"isn't\" should not be split into \"is\" and \"n't\").<br>\n",
    "b. Handles hyphenated words as a single token (e.g., \"state-of-the-art\" remains\n",
    "a single token).<br>\n",
    "c. Tokenizes numbers separately but keeps decimal numbers intact (e.g., \"3.14\"\n",
    "should remain as is)."
   ]
  },
  {
   "cell_type": "code",
   "execution_count": 50,
   "id": "38fbe85c-e5a8-4bbb-9968-4638bb4ff666",
   "metadata": {},
   "outputs": [
    {
     "name": "stdout",
     "output_type": "stream",
     "text": [
      "Removing unctuation and special symbols: ['I', 'enjoy', 'playing', 'online', 'games', 'because', 'they', 'are', 'fun', 'and', 'let', 'me', 'connect', 'with', 'friends', 'Games', 'like', 'Valorant', 'are', 'great', 'for', 'team', 'play', 'and', 'fast', 'action', 'while', 'GTA', 'V', 'gives', 'you', 'a', 'big', 'open', 'world', 'to', 'explore', 'and', 'do', 'missions', 'Minecraft', 'is', 'creative', 'you', 'can', 'build', 'anything', 'you', 'imagine', 'alone', 'or', 'with', 'others', 'Fortnite', 'is', 'exciting', 'too', 'especially', 'the', 'survival', 'mode', 'where', 'you', 'try', 'to', 'be', 'the', 'last', 'one', 'standing', 'These', 'games', 'are', 'not', 'just', 'for', 'fun', 'they', 'also', 'help', 'with', 'thinking', 'teamwork', 'and', 'quick', 'decision', 'making', 'Playing', 'online', 'games', 'is', 'a', 'cool', 'way', 'to', 'relax', 'and', 'enjoy', 'time', 'with', 'people', 'around', 'the', 'world']\n",
      "\n",
      "Hyphenated words:\n",
      " ['decision-making', 'state-of-the-art']\n",
      "Decimal numbers:\n",
      " ['3.14', '14.294', '52']\n"
     ]
    }
   ],
   "source": [
    "input4 = text\n",
    "\n",
    "def custom_tokenization_a(text):\n",
    "    tokens = re.findall(r\"\\w+|\\w+'\\w\", text)\n",
    "    return tokens\n",
    "def custom_tokenization_b(text):\n",
    "    tokens = re.findall(r\"\\w+(?:-\\w+)+\", text)\n",
    "    return tokens\n",
    "def custom_tokenization_c(text):\n",
    "    tokens = re.findall(r\"\\d+\\.\\d+|\\d+\", text)\n",
    "    return tokens\n",
    "\n",
    "ress_a = custom_tokenization_a(input4)\n",
    "# Adding the required inputs within the text to check the output\n",
    "ress_b = custom_tokenization_b(input4 + \" state-of-the-art\")\n",
    "ress_c = custom_tokenization_c(input4 + \" 3.14 14.294 52\")\n",
    "\n",
    "print(\"Removing unctuation and special symbols:\", ress_a)\n",
    "print(\"\\nHyphenated words:\\n\", ress_b)\n",
    "print(\"Decimal numbers:\\n\", ress_c)"
   ]
  },
  {
   "cell_type": "markdown",
   "id": "40558f32-c966-4d2c-840c-772dd37a4c68",
   "metadata": {},
   "source": [
    "3. Use Regex Substitutions (re.sub) to:\n",
    "a. Replace email addresses with '\\<EMAIL>' placeholder.<br>\n",
    "b. Replace URLs with '\\<URL>' placeholder.<br>\n",
    "c. Replace phone numbers (formats: 123-456-7890 or +91 9876543210) with\n",
    "'\\<PHONE>' placeholder."
   ]
  },
  {
   "cell_type": "code",
   "execution_count": 52,
   "id": "4f905920-65f2-4660-b11a-477731e52ce9",
   "metadata": {},
   "outputs": [
    {
     "name": "stdout",
     "output_type": "stream",
     "text": [
      "I enjoy playing online games because they are fun\n",
      "and let me connect with friends. Games like Valorant are\n",
      "great for team play and fast action, while GTA V gives\n",
      "you a big open world to explore and do missions.\n",
      "Minecraft is creative—you can build anything you imagine\n",
      ", alone or with others. Fortnite is exciting too, especially\n",
      "the survival mode where you try to be the last one standing.\n",
      "These games are not just for fun, they also help with thinking,\n",
      "teamwork, and quick decision-making. Playing online games is a\n",
      "cool way to relax and enjoy time with people around the <EMAIL> --End of document-- \n",
      "\n",
      "I enjoy playing online games because they are fun\n",
      "and let me connect with friends. Games like Valorant are\n",
      "great for team play and fast action, while GTA V gives\n",
      "you a big open world to explore and do missions.\n",
      "Minecraft is creative—you can build anything you imagine\n",
      ", alone or with others. Fortnite is exciting too, especially\n",
      "the survival mode where you try to be the last one standing.\n",
      "These games are not just for fun, they also help with thinking,\n",
      "teamwork, and quick decision-making. Playing online games is a\n",
      "cool way to relax and enjoy time with people around the world.<URL>  --End of document-- \n",
      "\n",
      "I enjoy playing online games because they are fun\n",
      "and let me connect with friends. Games like Valorant are\n",
      "great for team play and fast action, while GTA V gives\n",
      "you a big open world to explore and do missions.\n",
      "Minecraft is creative—you can build anything you imagine\n",
      ", alone or with others. Fortnite is exciting too, especially\n",
      "the survival mode where you try to be the last one standing.\n",
      "These games are not just for fun, they also help with thinking,\n",
      "teamwork, and quick decision-making. Playing online games is a\n",
      "cool way to relax and enjoy time with people around the world.<PHONE> <PHONE> --End of document--\n"
     ]
    }
   ],
   "source": [
    "res43a = re.sub(r'\\b[\\w\\.-]+@[\\w\\.-]+\\.\\w+\\b', '<EMAIL>', input4 + \"sanyogsethi.dev@gmail.com --End of document--\")\n",
    "print(res43a, \"\\n\")\n",
    "\n",
    "res43b = re.sub(r'https?://[^\\s]+', '<URL> ', input4 + \"https://github.com/SanyogSethi --End of document--\")\n",
    "print(res43b, \"\\n\")\n",
    "\n",
    "res43c = re.sub(r'\\b\\d{3}-\\d{3}-\\d{4}\\b', '<PHONE>', input4 + \"981-430-6110 +91 9814306110 --End of document--\")\n",
    "res43c = re.sub(r'\\+91\\s\\d{10}\\b', '<PHONE>', res43c)\n",
    "print(res43c)"
   ]
  }
 ],
 "metadata": {
  "kernelspec": {
   "display_name": "Python 3 (ipykernel)",
   "language": "python",
   "name": "python3"
  },
  "language_info": {
   "codemirror_mode": {
    "name": "ipython",
    "version": 3
   },
   "file_extension": ".py",
   "mimetype": "text/x-python",
   "name": "python",
   "nbconvert_exporter": "python",
   "pygments_lexer": "ipython3",
   "version": "3.12.4"
  }
 },
 "nbformat": 4,
 "nbformat_minor": 5
}
